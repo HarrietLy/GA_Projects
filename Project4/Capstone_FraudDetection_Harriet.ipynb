{
 "cells": [
  {
   "cell_type": "markdown",
   "metadata": {},
   "source": [
    "## Final Project\n",
    "\n",
    "#### Problem statement\n",
    "\n",
    "Millions of transactions payments to sellers are made everyday on ecommerce platform like shopee or lazada. With the increase in volume of transactions: buyers to sellers, an intelligent system of fraud detection is required for the e-commerce to prevent giving frauster money.\n",
    "\n",
    "Questions: \n",
    "1. Q1: how to  predict if a tranction is a fraud,using a selected list of given attributed\n",
    "2. Q2: is the classification model better than the current Flagging system that flagged transactions that are more than 200,000?\n",
    "\n",
    "Target Columns: 'isFraud'\n",
    "\n",
    "Objective:\n",
    "Build a Classification Model that can predict if a transaction is fraud or not fraud\n",
    "    - model 1: Logistic Regression\n",
    "    - model 2: KNN\n",
    "    - model 3: Random Forest\n",
    "    \n",
    "Determine if the Classification model is more accurate compared to the baseline:\n",
    "\n",
    "\n",
    "#### Data Source\n",
    "\n",
    "https://www.kaggle.com/ntnu-testimon/paysim1\n",
    "\n",
    "#### Risks or limitations\n",
    "- Curse of dimentionality:\n",
    "The dataset might be too thin 6m rows and\n",
    "- imbalance dataset, the non-fraud observations might be over presented\n",
    "- unknown variables that are not given in the orginal dataset that might have predicting power over whether a transaction is fraud\n",
    "\n",
    "### Description of Given Dataset\n",
    "\n",
    "1. step: Maps a unit of time in the real world. In this case 1 step is 1 hour of time.\n",
    "2. type: CASH-IN, CASH-OUT, DEBIT, PAYMENT and TRANSFER\n",
    "3. amount: amount of the transaction in local currency\n",
    "4. nameOrig: customer who started the transaction\n",
    "5. oldbalanceOrg: initial balance before the transaction\n",
    "6. newbalanceOrig: customer's balance after the transaction.\n",
    "7. nameDest: recipient ID of the transaction. \n",
    "8. oldbalanceDest: initial recipient balance before the transaction.\n",
    "9. newbalanceDest: recipient's balance after the transaction.\n",
    "10. isFraud: identifies a fraudulent transaction (1) and non fraudulent (0)\n",
    "11. ifFlaggedFraud: flags illegal attempts to transfer more than 200.000 in a single transaction. "
   ]
  },
  {
   "cell_type": "code",
   "execution_count": null,
   "metadata": {},
   "outputs": [],
   "source": []
  },
  {
   "cell_type": "markdown",
   "metadata": {},
   "source": [
    "> 1. LOADING DATASET"
   ]
  },
  {
   "cell_type": "code",
   "execution_count": 1,
   "metadata": {},
   "outputs": [],
   "source": [
    "import pandas as pd\n",
    "import numpy as np\n",
    "import seaborn as sns\n",
    "import matplotlib.pyplot as plt\n",
    "%matplotlib inline"
   ]
  },
  {
   "cell_type": "code",
   "execution_count": 2,
   "metadata": {
    "scrolled": true
   },
   "outputs": [
    {
     "data": {
      "text/html": [
       "<div>\n",
       "<style scoped>\n",
       "    .dataframe tbody tr th:only-of-type {\n",
       "        vertical-align: middle;\n",
       "    }\n",
       "\n",
       "    .dataframe tbody tr th {\n",
       "        vertical-align: top;\n",
       "    }\n",
       "\n",
       "    .dataframe thead th {\n",
       "        text-align: right;\n",
       "    }\n",
       "</style>\n",
       "<table border=\"1\" class=\"dataframe\">\n",
       "  <thead>\n",
       "    <tr style=\"text-align: right;\">\n",
       "      <th></th>\n",
       "      <th>step</th>\n",
       "      <th>type</th>\n",
       "      <th>amount</th>\n",
       "      <th>nameOrig</th>\n",
       "      <th>oldbalanceOrg</th>\n",
       "      <th>newbalanceOrig</th>\n",
       "      <th>nameDest</th>\n",
       "      <th>oldbalanceDest</th>\n",
       "      <th>newbalanceDest</th>\n",
       "      <th>isFraud</th>\n",
       "      <th>isFlaggedFraud</th>\n",
       "    </tr>\n",
       "  </thead>\n",
       "  <tbody>\n",
       "    <tr>\n",
       "      <th>0</th>\n",
       "      <td>1</td>\n",
       "      <td>PAYMENT</td>\n",
       "      <td>9839.64</td>\n",
       "      <td>C1231006815</td>\n",
       "      <td>170136.0</td>\n",
       "      <td>160296.36</td>\n",
       "      <td>M1979787155</td>\n",
       "      <td>0.0</td>\n",
       "      <td>0.0</td>\n",
       "      <td>0</td>\n",
       "      <td>0</td>\n",
       "    </tr>\n",
       "    <tr>\n",
       "      <th>1</th>\n",
       "      <td>1</td>\n",
       "      <td>PAYMENT</td>\n",
       "      <td>1864.28</td>\n",
       "      <td>C1666544295</td>\n",
       "      <td>21249.0</td>\n",
       "      <td>19384.72</td>\n",
       "      <td>M2044282225</td>\n",
       "      <td>0.0</td>\n",
       "      <td>0.0</td>\n",
       "      <td>0</td>\n",
       "      <td>0</td>\n",
       "    </tr>\n",
       "    <tr>\n",
       "      <th>2</th>\n",
       "      <td>1</td>\n",
       "      <td>TRANSFER</td>\n",
       "      <td>181.00</td>\n",
       "      <td>C1305486145</td>\n",
       "      <td>181.0</td>\n",
       "      <td>0.00</td>\n",
       "      <td>C553264065</td>\n",
       "      <td>0.0</td>\n",
       "      <td>0.0</td>\n",
       "      <td>1</td>\n",
       "      <td>0</td>\n",
       "    </tr>\n",
       "  </tbody>\n",
       "</table>\n",
       "</div>"
      ],
      "text/plain": [
       "   step      type   amount     nameOrig  oldbalanceOrg  newbalanceOrig  \\\n",
       "0     1   PAYMENT  9839.64  C1231006815       170136.0       160296.36   \n",
       "1     1   PAYMENT  1864.28  C1666544295        21249.0        19384.72   \n",
       "2     1  TRANSFER   181.00  C1305486145          181.0            0.00   \n",
       "\n",
       "      nameDest  oldbalanceDest  newbalanceDest  isFraud  isFlaggedFraud  \n",
       "0  M1979787155             0.0             0.0        0               0  \n",
       "1  M2044282225             0.0             0.0        0               0  \n",
       "2   C553264065             0.0             0.0        1               0  "
      ]
     },
     "execution_count": 2,
     "metadata": {},
     "output_type": "execute_result"
    }
   ],
   "source": [
    "path_to_file = 'C:\\\\Users\\\\harriet.ly\\\\Documents\\\\GitHub\\\\GA_projectsV2\\\\Project4\\\\fraud.csv'\n",
    "dataset = pd.read_csv(path_to_file)\n",
    "dataset.head(3)"
   ]
  },
  {
   "cell_type": "code",
   "execution_count": 3,
   "metadata": {},
   "outputs": [
    {
     "name": "stdout",
     "output_type": "stream",
     "text": [
      "<class 'pandas.core.frame.DataFrame'>\n",
      "RangeIndex: 6362620 entries, 0 to 6362619\n",
      "Data columns (total 11 columns):\n",
      "step              int64\n",
      "type              object\n",
      "amount            float64\n",
      "nameOrig          object\n",
      "oldbalanceOrg     float64\n",
      "newbalanceOrig    float64\n",
      "nameDest          object\n",
      "oldbalanceDest    float64\n",
      "newbalanceDest    float64\n",
      "isFraud           int64\n",
      "isFlaggedFraud    int64\n",
      "dtypes: float64(5), int64(3), object(3)\n",
      "memory usage: 534.0+ MB\n"
     ]
    }
   ],
   "source": [
    "dataset.info()"
   ]
  },
  {
   "cell_type": "code",
   "execution_count": 4,
   "metadata": {},
   "outputs": [
    {
     "data": {
      "text/plain": [
       "(6362620, 11)"
      ]
     },
     "execution_count": 4,
     "metadata": {},
     "output_type": "execute_result"
    }
   ],
   "source": [
    "# check number of rows and columns\n",
    "dataset.shape"
   ]
  },
  {
   "cell_type": "code",
   "execution_count": 5,
   "metadata": {},
   "outputs": [
    {
     "data": {
      "text/plain": [
       "False"
      ]
     },
     "execution_count": 5,
     "metadata": {},
     "output_type": "execute_result"
    }
   ],
   "source": [
    "# Test if there is any null values\n",
    "dataset.isnull().values.any()"
   ]
  },
  {
   "cell_type": "code",
   "execution_count": 6,
   "metadata": {},
   "outputs": [
    {
     "data": {
      "text/plain": [
       "0    6354407\n",
       "1       8213\n",
       "Name: isFraud, dtype: int64"
      ]
     },
     "execution_count": 6,
     "metadata": {},
     "output_type": "execute_result"
    }
   ],
   "source": [
    "# Target Col is \"isFraud\"\n",
    "# Check imbalance. Data is imbalanced.\n",
    "dataset.isFraud.value_counts()"
   ]
  },
  {
   "cell_type": "code",
   "execution_count": 7,
   "metadata": {},
   "outputs": [
    {
     "data": {
      "text/plain": [
       "0    6362604\n",
       "1         16\n",
       "Name: isFlaggedFraud, dtype: int64"
      ]
     },
     "execution_count": 7,
     "metadata": {},
     "output_type": "execute_result"
    }
   ],
   "source": [
    "dataset.isFlaggedFraud.value_counts()"
   ]
  },
  {
   "cell_type": "code",
   "execution_count": 8,
   "metadata": {},
   "outputs": [
    {
     "data": {
      "text/plain": [
       "0.0019438707325962824"
      ]
     },
     "execution_count": 8,
     "metadata": {},
     "output_type": "execute_result"
    }
   ],
   "source": [
    "# The current flag system identified only 16 cases out of 8231 real fraud cases, which is very low\n",
    "Current_sensitivity = 16 / 8231\n",
    "Current_sensitivity"
   ]
  },
  {
   "cell_type": "code",
   "execution_count": 9,
   "metadata": {
    "scrolled": true
   },
   "outputs": [
    {
     "data": {
      "text/plain": [
       "(200000, 11)"
      ]
     },
     "execution_count": 9,
     "metadata": {},
     "output_type": "execute_result"
    }
   ],
   "source": [
    "# Randomly sampled 200K out of 6m+ of the original data, to decrease the size of data for smote tomek to run faster later\n",
    "\n",
    "from random import sample\n",
    "\n",
    "data_sample_index =  np.array(sample(range(len(dataset)), 200000))\n",
    "data = dataset.iloc[data_sample_index]\n",
    "data.shape"
   ]
  },
  {
   "cell_type": "code",
   "execution_count": 10,
   "metadata": {},
   "outputs": [
    {
     "data": {
      "text/plain": [
       "0    199767\n",
       "1       233\n",
       "Name: isFraud, dtype: int64"
      ]
     },
     "execution_count": 10,
     "metadata": {},
     "output_type": "execute_result"
    }
   ],
   "source": [
    "# imbalance in a smaller sample. Highly imbalanced\n",
    "data.isFraud.value_counts()"
   ]
  },
  {
   "cell_type": "code",
   "execution_count": 11,
   "metadata": {},
   "outputs": [
    {
     "data": {
      "text/html": [
       "<div>\n",
       "<style scoped>\n",
       "    .dataframe tbody tr th:only-of-type {\n",
       "        vertical-align: middle;\n",
       "    }\n",
       "\n",
       "    .dataframe tbody tr th {\n",
       "        vertical-align: top;\n",
       "    }\n",
       "\n",
       "    .dataframe thead th {\n",
       "        text-align: right;\n",
       "    }\n",
       "</style>\n",
       "<table border=\"1\" class=\"dataframe\">\n",
       "  <thead>\n",
       "    <tr style=\"text-align: right;\">\n",
       "      <th></th>\n",
       "      <th>type</th>\n",
       "      <th>amount</th>\n",
       "      <th>oldbalanceOrg</th>\n",
       "      <th>newbalanceOrig</th>\n",
       "      <th>oldbalanceDest</th>\n",
       "      <th>newbalanceDest</th>\n",
       "      <th>isFlaggedFraud</th>\n",
       "      <th>isFraud</th>\n",
       "    </tr>\n",
       "  </thead>\n",
       "  <tbody>\n",
       "    <tr>\n",
       "      <th>4562106</th>\n",
       "      <td>PAYMENT</td>\n",
       "      <td>19267.90</td>\n",
       "      <td>378044.40</td>\n",
       "      <td>358776.50</td>\n",
       "      <td>0.00</td>\n",
       "      <td>0.00</td>\n",
       "      <td>0</td>\n",
       "      <td>0</td>\n",
       "    </tr>\n",
       "    <tr>\n",
       "      <th>5481231</th>\n",
       "      <td>PAYMENT</td>\n",
       "      <td>1808.34</td>\n",
       "      <td>74266.00</td>\n",
       "      <td>72457.66</td>\n",
       "      <td>0.00</td>\n",
       "      <td>0.00</td>\n",
       "      <td>0</td>\n",
       "      <td>0</td>\n",
       "    </tr>\n",
       "    <tr>\n",
       "      <th>2503235</th>\n",
       "      <td>CASH_OUT</td>\n",
       "      <td>230269.86</td>\n",
       "      <td>10940.00</td>\n",
       "      <td>0.00</td>\n",
       "      <td>53329.72</td>\n",
       "      <td>283599.58</td>\n",
       "      <td>0</td>\n",
       "      <td>0</td>\n",
       "    </tr>\n",
       "    <tr>\n",
       "      <th>4671566</th>\n",
       "      <td>PAYMENT</td>\n",
       "      <td>14724.59</td>\n",
       "      <td>0.00</td>\n",
       "      <td>0.00</td>\n",
       "      <td>0.00</td>\n",
       "      <td>0.00</td>\n",
       "      <td>0</td>\n",
       "      <td>0</td>\n",
       "    </tr>\n",
       "    <tr>\n",
       "      <th>4074703</th>\n",
       "      <td>PAYMENT</td>\n",
       "      <td>4717.97</td>\n",
       "      <td>267257.48</td>\n",
       "      <td>262539.51</td>\n",
       "      <td>0.00</td>\n",
       "      <td>0.00</td>\n",
       "      <td>0</td>\n",
       "      <td>0</td>\n",
       "    </tr>\n",
       "  </tbody>\n",
       "</table>\n",
       "</div>"
      ],
      "text/plain": [
       "             type     amount  oldbalanceOrg  newbalanceOrig  oldbalanceDest  \\\n",
       "4562106   PAYMENT   19267.90      378044.40       358776.50            0.00   \n",
       "5481231   PAYMENT    1808.34       74266.00        72457.66            0.00   \n",
       "2503235  CASH_OUT  230269.86       10940.00            0.00        53329.72   \n",
       "4671566   PAYMENT   14724.59           0.00            0.00            0.00   \n",
       "4074703   PAYMENT    4717.97      267257.48       262539.51            0.00   \n",
       "\n",
       "         newbalanceDest  isFlaggedFraud  isFraud  \n",
       "4562106            0.00               0        0  \n",
       "5481231            0.00               0        0  \n",
       "2503235       283599.58               0        0  \n",
       "4671566            0.00               0        0  \n",
       "4074703            0.00               0        0  "
      ]
     },
     "execution_count": 11,
     "metadata": {},
     "output_type": "execute_result"
    }
   ],
   "source": [
    "# drop 'Step', 'nameOrig' and 'nameDest' as it is considered as unique as ID and will not have predictive power\n",
    "data = data[['type','amount','oldbalanceOrg','newbalanceOrig','oldbalanceDest','newbalanceDest','isFlaggedFraud','isFraud']]\n",
    "data.head()"
   ]
  },
  {
   "cell_type": "markdown",
   "metadata": {},
   "source": [
    "> 2. EDA"
   ]
  },
  {
   "cell_type": "markdown",
   "metadata": {},
   "source": [
    "We will going one by one non target col to select as feature, and also engineer some new features"
   ]
  },
  {
   "cell_type": "code",
   "execution_count": 12,
   "metadata": {},
   "outputs": [
    {
     "data": {
      "text/plain": [
       "(0, 8)"
      ]
     },
     "execution_count": 12,
     "metadata": {},
     "output_type": "execute_result"
    }
   ],
   "source": [
    "# 1. First, Check if col \"isFlaggedFraud\" is completed co-related to \"amount\". If amount > 200k, isFlaggedFraud =1\n",
    "data_flaggedFraud = data[data['isFlaggedFraud']==1]\n",
    "data_flaggedFraud[data_flaggedFraud['amount']<200000].shape "
   ]
  },
  {
   "cell_type": "code",
   "execution_count": 13,
   "metadata": {},
   "outputs": [
    {
     "data": {
      "text/html": [
       "<div>\n",
       "<style scoped>\n",
       "    .dataframe tbody tr th:only-of-type {\n",
       "        vertical-align: middle;\n",
       "    }\n",
       "\n",
       "    .dataframe tbody tr th {\n",
       "        vertical-align: top;\n",
       "    }\n",
       "\n",
       "    .dataframe thead th {\n",
       "        text-align: right;\n",
       "    }\n",
       "</style>\n",
       "<table border=\"1\" class=\"dataframe\">\n",
       "  <thead>\n",
       "    <tr style=\"text-align: right;\">\n",
       "      <th></th>\n",
       "      <th>type</th>\n",
       "      <th>amount</th>\n",
       "      <th>oldbalanceOrg</th>\n",
       "      <th>newbalanceOrig</th>\n",
       "      <th>oldbalanceDest</th>\n",
       "      <th>newbalanceDest</th>\n",
       "      <th>isFraud</th>\n",
       "    </tr>\n",
       "  </thead>\n",
       "  <tbody>\n",
       "    <tr>\n",
       "      <th>4562106</th>\n",
       "      <td>PAYMENT</td>\n",
       "      <td>19267.90</td>\n",
       "      <td>378044.4</td>\n",
       "      <td>358776.50</td>\n",
       "      <td>0.00</td>\n",
       "      <td>0.00</td>\n",
       "      <td>0</td>\n",
       "    </tr>\n",
       "    <tr>\n",
       "      <th>5481231</th>\n",
       "      <td>PAYMENT</td>\n",
       "      <td>1808.34</td>\n",
       "      <td>74266.0</td>\n",
       "      <td>72457.66</td>\n",
       "      <td>0.00</td>\n",
       "      <td>0.00</td>\n",
       "      <td>0</td>\n",
       "    </tr>\n",
       "    <tr>\n",
       "      <th>2503235</th>\n",
       "      <td>CASH_OUT</td>\n",
       "      <td>230269.86</td>\n",
       "      <td>10940.0</td>\n",
       "      <td>0.00</td>\n",
       "      <td>53329.72</td>\n",
       "      <td>283599.58</td>\n",
       "      <td>0</td>\n",
       "    </tr>\n",
       "  </tbody>\n",
       "</table>\n",
       "</div>"
      ],
      "text/plain": [
       "             type     amount  oldbalanceOrg  newbalanceOrig  oldbalanceDest  \\\n",
       "4562106   PAYMENT   19267.90       378044.4       358776.50            0.00   \n",
       "5481231   PAYMENT    1808.34        74266.0        72457.66            0.00   \n",
       "2503235  CASH_OUT  230269.86        10940.0            0.00        53329.72   \n",
       "\n",
       "         newbalanceDest  isFraud  \n",
       "4562106            0.00        0  \n",
       "5481231            0.00        0  \n",
       "2503235       283599.58        0  "
      ]
     },
     "execution_count": 13,
     "metadata": {},
     "output_type": "execute_result"
    }
   ],
   "source": [
    "# All of rows are flagged Fraud has amount >200K\n",
    "# Drop \"isFlaggedFraud\", as its information is already captured in \"amount\"\n",
    "data = data[['type','amount','oldbalanceOrg','newbalanceOrig','oldbalanceDest','newbalanceDest','isFraud']]\n",
    "data.head(3)"
   ]
  },
  {
   "cell_type": "code",
   "execution_count": 14,
   "metadata": {},
   "outputs": [
    {
     "data": {
      "text/plain": [
       "(28737, 8)"
      ]
     },
     "execution_count": 14,
     "metadata": {},
     "output_type": "execute_result"
    }
   ],
   "source": [
    "# 2. Next, we check if the Col \"amount\" is equal to the abs(newbalanceOrig-oldbalanceOrg)\n",
    "# In a genuine transaction, the absolute difference between the\n",
    "# beginning and ending balance of the original account should equal to the amount of transactions.\n",
    "\n",
    "data['error_Orig']= abs(data['oldbalanceOrg'] - data['newbalanceOrig']) - data['amount'] # create error column\n",
    "data[data['error_Orig']>0].shape # count how many transaction got error"
   ]
  },
  {
   "cell_type": "code",
   "execution_count": 15,
   "metadata": {},
   "outputs": [],
   "source": [
    "# there are 28k+ transactions whose \"newbalanceOrig\" do not tally with the 'amount' and 'oldbalanceOrg', hence \n",
    "# we will include  'error_Orig' as an attribute in our fraud detection model"
   ]
  },
  {
   "cell_type": "code",
   "execution_count": 16,
   "metadata": {},
   "outputs": [
    {
     "data": {
      "text/plain": [
       "(49262, 9)"
      ]
     },
     "execution_count": 16,
     "metadata": {},
     "output_type": "execute_result"
    }
   ],
   "source": [
    "#3. Likewise, we check for error in Dest\n",
    "data['error_Dest']= abs(dataset['newbalanceDest']-dataset['oldbalanceDest'])-dataset['amount']\n",
    "data[data['error_Dest']>0].shape"
   ]
  },
  {
   "cell_type": "code",
   "execution_count": 17,
   "metadata": {},
   "outputs": [],
   "source": [
    "# there are 49k+ transactions whose \"newbalanceDest\" do not tally with the 'amount' and 'oldbalanceDest', hence \n",
    "# 'error_Dest' can be used considered as an attribute in our fraud detection model"
   ]
  },
  {
   "cell_type": "code",
   "execution_count": 18,
   "metadata": {},
   "outputs": [],
   "source": [
    "# although we now need to be extra careful of multicollinearity in our model as correlated attributes might be present"
   ]
  },
  {
   "cell_type": "code",
   "execution_count": 19,
   "metadata": {},
   "outputs": [
    {
     "data": {
      "text/html": [
       "<div>\n",
       "<style scoped>\n",
       "    .dataframe tbody tr th:only-of-type {\n",
       "        vertical-align: middle;\n",
       "    }\n",
       "\n",
       "    .dataframe tbody tr th {\n",
       "        vertical-align: top;\n",
       "    }\n",
       "\n",
       "    .dataframe thead th {\n",
       "        text-align: right;\n",
       "    }\n",
       "</style>\n",
       "<table border=\"1\" class=\"dataframe\">\n",
       "  <thead>\n",
       "    <tr style=\"text-align: right;\">\n",
       "      <th></th>\n",
       "      <th>type</th>\n",
       "      <th>amount</th>\n",
       "      <th>oldbalanceOrg</th>\n",
       "      <th>error_Orig</th>\n",
       "      <th>oldbalanceDest</th>\n",
       "      <th>error_Dest</th>\n",
       "      <th>isFraud</th>\n",
       "    </tr>\n",
       "  </thead>\n",
       "  <tbody>\n",
       "    <tr>\n",
       "      <th>4562106</th>\n",
       "      <td>PAYMENT</td>\n",
       "      <td>19267.90</td>\n",
       "      <td>378044.4</td>\n",
       "      <td>2.182787e-11</td>\n",
       "      <td>0.00</td>\n",
       "      <td>-1.926790e+04</td>\n",
       "      <td>0</td>\n",
       "    </tr>\n",
       "    <tr>\n",
       "      <th>5481231</th>\n",
       "      <td>PAYMENT</td>\n",
       "      <td>1808.34</td>\n",
       "      <td>74266.0</td>\n",
       "      <td>-3.410605e-12</td>\n",
       "      <td>0.00</td>\n",
       "      <td>-1.808340e+03</td>\n",
       "      <td>0</td>\n",
       "    </tr>\n",
       "    <tr>\n",
       "      <th>2503235</th>\n",
       "      <td>CASH_OUT</td>\n",
       "      <td>230269.86</td>\n",
       "      <td>10940.0</td>\n",
       "      <td>-2.193299e+05</td>\n",
       "      <td>53329.72</td>\n",
       "      <td>2.910383e-11</td>\n",
       "      <td>0</td>\n",
       "    </tr>\n",
       "  </tbody>\n",
       "</table>\n",
       "</div>"
      ],
      "text/plain": [
       "             type     amount  oldbalanceOrg    error_Orig  oldbalanceDest  \\\n",
       "4562106   PAYMENT   19267.90       378044.4  2.182787e-11            0.00   \n",
       "5481231   PAYMENT    1808.34        74266.0 -3.410605e-12            0.00   \n",
       "2503235  CASH_OUT  230269.86        10940.0 -2.193299e+05        53329.72   \n",
       "\n",
       "           error_Dest  isFraud  \n",
       "4562106 -1.926790e+04        0  \n",
       "5481231 -1.808340e+03        0  \n",
       "2503235  2.910383e-11        0  "
      ]
     },
     "execution_count": 19,
     "metadata": {},
     "output_type": "execute_result"
    }
   ],
   "source": [
    "# 4. Drop \"newbalanceOrig\" because it can be calculated from \"amount\", 'oldbalanceOrg' and \"error_Orig\"\n",
    "# Drop \"newbalanceDest\" too\n",
    "\n",
    "data = data[['type','amount','oldbalanceOrg','error_Orig','oldbalanceDest','error_Dest','isFraud']]\n",
    "data.head(3)"
   ]
  },
  {
   "cell_type": "code",
   "execution_count": 20,
   "metadata": {},
   "outputs": [
    {
     "data": {
      "text/plain": [
       "array(['PAYMENT', 'CASH_OUT', 'CASH_IN', 'TRANSFER', 'DEBIT'],\n",
       "      dtype=object)"
      ]
     },
     "execution_count": 20,
     "metadata": {},
     "output_type": "execute_result"
    }
   ],
   "source": [
    "#5. Check on the categorical attribute 'type'\n",
    "data['type'].unique()"
   ]
  },
  {
   "cell_type": "code",
   "execution_count": 21,
   "metadata": {},
   "outputs": [],
   "source": [
    "#to use get_dummies to transform this categorical col into 5 Cols that take values 0 and 1\n",
    "data=pd.get_dummies(data=data, columns=['type'])"
   ]
  },
  {
   "cell_type": "code",
   "execution_count": 22,
   "metadata": {},
   "outputs": [
    {
     "data": {
      "text/html": [
       "<div>\n",
       "<style scoped>\n",
       "    .dataframe tbody tr th:only-of-type {\n",
       "        vertical-align: middle;\n",
       "    }\n",
       "\n",
       "    .dataframe tbody tr th {\n",
       "        vertical-align: top;\n",
       "    }\n",
       "\n",
       "    .dataframe thead th {\n",
       "        text-align: right;\n",
       "    }\n",
       "</style>\n",
       "<table border=\"1\" class=\"dataframe\">\n",
       "  <thead>\n",
       "    <tr style=\"text-align: right;\">\n",
       "      <th></th>\n",
       "      <th>amount</th>\n",
       "      <th>oldbalanceOrg</th>\n",
       "      <th>error_Orig</th>\n",
       "      <th>oldbalanceDest</th>\n",
       "      <th>error_Dest</th>\n",
       "      <th>type_CASH_OUT</th>\n",
       "      <th>type_DEBIT</th>\n",
       "      <th>type_PAYMENT</th>\n",
       "      <th>type_TRANSFER</th>\n",
       "      <th>isFraud</th>\n",
       "    </tr>\n",
       "  </thead>\n",
       "  <tbody>\n",
       "    <tr>\n",
       "      <th>4562106</th>\n",
       "      <td>19267.90</td>\n",
       "      <td>378044.4</td>\n",
       "      <td>2.182787e-11</td>\n",
       "      <td>0.00</td>\n",
       "      <td>-1.926790e+04</td>\n",
       "      <td>0</td>\n",
       "      <td>0</td>\n",
       "      <td>1</td>\n",
       "      <td>0</td>\n",
       "      <td>0</td>\n",
       "    </tr>\n",
       "    <tr>\n",
       "      <th>5481231</th>\n",
       "      <td>1808.34</td>\n",
       "      <td>74266.0</td>\n",
       "      <td>-3.410605e-12</td>\n",
       "      <td>0.00</td>\n",
       "      <td>-1.808340e+03</td>\n",
       "      <td>0</td>\n",
       "      <td>0</td>\n",
       "      <td>1</td>\n",
       "      <td>0</td>\n",
       "      <td>0</td>\n",
       "    </tr>\n",
       "    <tr>\n",
       "      <th>2503235</th>\n",
       "      <td>230269.86</td>\n",
       "      <td>10940.0</td>\n",
       "      <td>-2.193299e+05</td>\n",
       "      <td>53329.72</td>\n",
       "      <td>2.910383e-11</td>\n",
       "      <td>1</td>\n",
       "      <td>0</td>\n",
       "      <td>0</td>\n",
       "      <td>0</td>\n",
       "      <td>0</td>\n",
       "    </tr>\n",
       "  </tbody>\n",
       "</table>\n",
       "</div>"
      ],
      "text/plain": [
       "            amount  oldbalanceOrg    error_Orig  oldbalanceDest    error_Dest  \\\n",
       "4562106   19267.90       378044.4  2.182787e-11            0.00 -1.926790e+04   \n",
       "5481231    1808.34        74266.0 -3.410605e-12            0.00 -1.808340e+03   \n",
       "2503235  230269.86        10940.0 -2.193299e+05        53329.72  2.910383e-11   \n",
       "\n",
       "         type_CASH_OUT  type_DEBIT  type_PAYMENT  type_TRANSFER  isFraud  \n",
       "4562106              0           0             1              0        0  \n",
       "5481231              0           0             1              0        0  \n",
       "2503235              1           0             0              0        0  "
      ]
     },
     "execution_count": 22,
     "metadata": {},
     "output_type": "execute_result"
    }
   ],
   "source": [
    "#rearrange col, drop one dummy\n",
    "data=data[['amount','oldbalanceOrg','error_Orig','oldbalanceDest','error_Dest','type_CASH_OUT','type_DEBIT','type_PAYMENT','type_TRANSFER','isFraud']]\n",
    "data.head(3)"
   ]
  },
  {
   "cell_type": "markdown",
   "metadata": {},
   "source": [
    "> FEATURE SELECTION"
   ]
  },
  {
   "cell_type": "code",
   "execution_count": 23,
   "metadata": {},
   "outputs": [
    {
     "data": {
      "text/plain": [
       "<matplotlib.axes._subplots.AxesSubplot at 0x24c33c6fa20>"
      ]
     },
     "execution_count": 23,
     "metadata": {},
     "output_type": "execute_result"
    },
    {
     "data": {
      "image/png": "[encoded data removed]",
      "text/plain": [
       "<Figure size 720x720 with 2 Axes>"
      ]
     },
     "metadata": {},
     "output_type": "display_data"
    }
   ],
   "source": [
    "# Correlation examiniation via Heatmap\n",
    "plt.figure(figsize=(10,10))\n",
    "sns.heatmap(data.corr(), annot=True)"
   ]
  },
  {
   "cell_type": "code",
   "execution_count": 25,
   "metadata": {},
   "outputs": [
    {
     "data": {
      "text/html": [
       "<div>\n",
       "<style scoped>\n",
       "    .dataframe tbody tr th:only-of-type {\n",
       "        vertical-align: middle;\n",
       "    }\n",
       "\n",
       "    .dataframe tbody tr th {\n",
       "        vertical-align: top;\n",
       "    }\n",
       "\n",
       "    .dataframe thead th {\n",
       "        text-align: right;\n",
       "    }\n",
       "</style>\n",
       "<table border=\"1\" class=\"dataframe\">\n",
       "  <thead>\n",
       "    <tr style=\"text-align: right;\">\n",
       "      <th></th>\n",
       "      <th>amount</th>\n",
       "      <th>oldbalanceOrg</th>\n",
       "      <th>oldbalanceDest</th>\n",
       "      <th>error_Dest</th>\n",
       "      <th>type_CASH_OUT</th>\n",
       "      <th>type_DEBIT</th>\n",
       "      <th>type_PAYMENT</th>\n",
       "      <th>type_TRANSFER</th>\n",
       "      <th>isFraud</th>\n",
       "    </tr>\n",
       "  </thead>\n",
       "  <tbody>\n",
       "    <tr>\n",
       "      <th>4562106</th>\n",
       "      <td>19267.90</td>\n",
       "      <td>378044.4</td>\n",
       "      <td>0.00</td>\n",
       "      <td>-1.926790e+04</td>\n",
       "      <td>0</td>\n",
       "      <td>0</td>\n",
       "      <td>1</td>\n",
       "      <td>0</td>\n",
       "      <td>0</td>\n",
       "    </tr>\n",
       "    <tr>\n",
       "      <th>5481231</th>\n",
       "      <td>1808.34</td>\n",
       "      <td>74266.0</td>\n",
       "      <td>0.00</td>\n",
       "      <td>-1.808340e+03</td>\n",
       "      <td>0</td>\n",
       "      <td>0</td>\n",
       "      <td>1</td>\n",
       "      <td>0</td>\n",
       "      <td>0</td>\n",
       "    </tr>\n",
       "    <tr>\n",
       "      <th>2503235</th>\n",
       "      <td>230269.86</td>\n",
       "      <td>10940.0</td>\n",
       "      <td>53329.72</td>\n",
       "      <td>2.910383e-11</td>\n",
       "      <td>1</td>\n",
       "      <td>0</td>\n",
       "      <td>0</td>\n",
       "      <td>0</td>\n",
       "      <td>0</td>\n",
       "    </tr>\n",
       "  </tbody>\n",
       "</table>\n",
       "</div>"
      ],
      "text/plain": [
       "            amount  oldbalanceOrg  oldbalanceDest    error_Dest  \\\n",
       "4562106   19267.90       378044.4            0.00 -1.926790e+04   \n",
       "5481231    1808.34        74266.0            0.00 -1.808340e+03   \n",
       "2503235  230269.86        10940.0        53329.72  2.910383e-11   \n",
       "\n",
       "         type_CASH_OUT  type_DEBIT  type_PAYMENT  type_TRANSFER  isFraud  \n",
       "4562106              0           0             1              0        0  \n",
       "5481231              0           0             1              0        0  \n",
       "2503235              1           0             0              0        0  "
      ]
     },
     "execution_count": 25,
     "metadata": {},
     "output_type": "execute_result"
    }
   ],
   "source": [
    "#Drop 'error_Orig' as it is highly correleated to 'amount'\n",
    "data=data[['amount','oldbalanceOrg','oldbalanceDest','error_Dest','type_CASH_OUT','type_DEBIT','type_PAYMENT','type_TRANSFER','isFraud']]\n",
    "data.head(3)"
   ]
  },
  {
   "cell_type": "code",
   "execution_count": 26,
   "metadata": {},
   "outputs": [],
   "source": [
    "#Select Xs and y\n",
    "feature_cols=['amount','oldbalanceOrg','oldbalanceDest','error_Dest','type_CASH_OUT','type_DEBIT','type_PAYMENT','type_TRANSFER']\n",
    "X = data[feature_cols]\n",
    "y = data['isFraud']"
   ]
  },
  {
   "cell_type": "code",
   "execution_count": 27,
   "metadata": {},
   "outputs": [],
   "source": [
    "# Rebalance using Smote Tomek\n",
    "from imblearn.combine import SMOTETomek\n",
    "#instantiate\n",
    "sm = SMOTETomek()\n",
    "X_resampled, y_resampled = sm.fit_sample(X, y)"
   ]
  },
  {
   "cell_type": "code",
   "execution_count": 28,
   "metadata": {},
   "outputs": [
    {
     "data": {
      "text/plain": [
       "199656"
      ]
     },
     "execution_count": 28,
     "metadata": {},
     "output_type": "execute_result"
    }
   ],
   "source": [
    "# Checking for balance\n",
    "y_resampled.sum() # number of Fraud case is 200K"
   ]
  },
  {
   "cell_type": "code",
   "execution_count": 29,
   "metadata": {},
   "outputs": [
    {
     "data": {
      "text/plain": [
       "(399312,)"
      ]
     },
     "execution_count": 29,
     "metadata": {},
     "output_type": "execute_result"
    }
   ],
   "source": [
    "y_resampled.shape # number of nonFraud case is also around ~200K. Data is balanced"
   ]
  },
  {
   "cell_type": "code",
   "execution_count": 30,
   "metadata": {},
   "outputs": [],
   "source": [
    "# Standard Scaling all Features\n",
    "from sklearn.preprocessing import StandardScaler\n",
    "\n",
    "scaler = StandardScaler() # instantiate\n",
    "scaled_Xs = scaler.fit_transform(X_resampled)"
   ]
  },
  {
   "cell_type": "code",
   "execution_count": 31,
   "metadata": {},
   "outputs": [
    {
     "data": {
      "text/html": [
       "<div>\n",
       "<style scoped>\n",
       "    .dataframe tbody tr th:only-of-type {\n",
       "        vertical-align: middle;\n",
       "    }\n",
       "\n",
       "    .dataframe tbody tr th {\n",
       "        vertical-align: top;\n",
       "    }\n",
       "\n",
       "    .dataframe thead th {\n",
       "        text-align: right;\n",
       "    }\n",
       "</style>\n",
       "<table border=\"1\" class=\"dataframe\">\n",
       "  <thead>\n",
       "    <tr style=\"text-align: right;\">\n",
       "      <th></th>\n",
       "      <th>amount</th>\n",
       "      <th>oldbalanceOrg</th>\n",
       "      <th>oldbalanceDest</th>\n",
       "      <th>error_Dest</th>\n",
       "      <th>type_CASH_OUT</th>\n",
       "      <th>type_DEBIT</th>\n",
       "      <th>type_PAYMENT</th>\n",
       "      <th>type_TRANSFER</th>\n",
       "    </tr>\n",
       "  </thead>\n",
       "  <tbody>\n",
       "    <tr>\n",
       "      <th>0</th>\n",
       "      <td>-0.458322</td>\n",
       "      <td>-0.306397</td>\n",
       "      <td>-0.289967</td>\n",
       "      <td>0.268350</td>\n",
       "      <td>-0.820764</td>\n",
       "      <td>-0.056463</td>\n",
       "      <td>2.217481</td>\n",
       "      <td>-0.683638</td>\n",
       "    </tr>\n",
       "    <tr>\n",
       "      <th>1</th>\n",
       "      <td>-0.467091</td>\n",
       "      <td>-0.405628</td>\n",
       "      <td>-0.289967</td>\n",
       "      <td>0.280568</td>\n",
       "      <td>-0.820764</td>\n",
       "      <td>-0.056463</td>\n",
       "      <td>2.217481</td>\n",
       "      <td>-0.683638</td>\n",
       "    </tr>\n",
       "    <tr>\n",
       "      <th>2</th>\n",
       "      <td>-0.352346</td>\n",
       "      <td>-0.426314</td>\n",
       "      <td>-0.269515</td>\n",
       "      <td>0.281833</td>\n",
       "      <td>1.227884</td>\n",
       "      <td>-0.056463</td>\n",
       "      <td>-0.450962</td>\n",
       "      <td>-0.683638</td>\n",
       "    </tr>\n",
       "  </tbody>\n",
       "</table>\n",
       "</div>"
      ],
      "text/plain": [
       "     amount  oldbalanceOrg  oldbalanceDest  error_Dest  type_CASH_OUT  \\\n",
       "0 -0.458322      -0.306397       -0.289967    0.268350      -0.820764   \n",
       "1 -0.467091      -0.405628       -0.289967    0.280568      -0.820764   \n",
       "2 -0.352346      -0.426314       -0.269515    0.281833       1.227884   \n",
       "\n",
       "   type_DEBIT  type_PAYMENT  type_TRANSFER  \n",
       "0   -0.056463      2.217481      -0.683638  \n",
       "1   -0.056463      2.217481      -0.683638  \n",
       "2   -0.056463     -0.450962      -0.683638  "
      ]
     },
     "execution_count": 31,
     "metadata": {},
     "output_type": "execute_result"
    }
   ],
   "source": [
    "X = pd.DataFrame(scaled_Xs, columns=feature_cols)\n",
    "X.head(3)"
   ]
  },
  {
   "cell_type": "code",
   "execution_count": 32,
   "metadata": {},
   "outputs": [],
   "source": [
    "# Target variable\n",
    "y = y_resampled"
   ]
  },
  {
   "cell_type": "code",
   "execution_count": 33,
   "metadata": {},
   "outputs": [],
   "source": [
    "# Split to training and test datasets to 75% training, 25 % test (default)\n",
    "from sklearn import model_selection\n",
    "X_train, X_test, y_train, y_test = model_selection.train_test_split(X, y, random_state=123)"
   ]
  },
  {
   "cell_type": "markdown",
   "metadata": {},
   "source": [
    ">Model 1: Logistic Regression"
   ]
  },
  {
   "cell_type": "code",
   "execution_count": 34,
   "metadata": {},
   "outputs": [
    {
     "data": {
      "text/plain": [
       "LogisticRegression(C=1.0, class_weight=None, dual=False, fit_intercept=True,\n",
       "          intercept_scaling=1, max_iter=100, multi_class='ovr', n_jobs=1,\n",
       "          penalty='l2', random_state=None, solver='liblinear', tol=0.0001,\n",
       "          verbose=0, warm_start=False)"
      ]
     },
     "execution_count": 34,
     "metadata": {},
     "output_type": "execute_result"
    }
   ],
   "source": [
    "# Fit a logistic Regression model on the training set\n",
    "from sklearn.linear_model import LogisticRegression\n",
    "\n",
    "logreg= LogisticRegression()\n",
    "logreg.fit(X_train, y_train)"
   ]
  },
  {
   "cell_type": "code",
   "execution_count": 35,
   "metadata": {},
   "outputs": [
    {
     "name": "stdout",
     "output_type": "stream",
     "text": [
      "[[ -5.28195952  15.78406692  -0.3552658  -22.56996293  71.1783388\n",
      "    1.43727889  11.46005934  67.87385434]]\n",
      "['amount', 'oldbalanceOrg', 'oldbalanceDest', 'error_Dest', 'type_CASH_OUT', 'type_DEBIT', 'type_PAYMENT', 'type_TRANSFER']\n"
     ]
    }
   ],
   "source": [
    "# Examine the coeffcient\n",
    "print(logreg.coef_)\n",
    "print(feature_cols)"
   ]
  },
  {
   "cell_type": "markdown",
   "metadata": {},
   "source": [
    "**Interpretation**:\n",
    "- The higher the amount, the more likely the transaction is fraud\n",
    "- The higher of the beginning balance of Origin or Destination Accounts, the less likely the transaction is fraud\n",
    "- Cash_in type has the least likelihood of fraud, compared to the other four types\n",
    "- Cash_out and Transfer are the types of transactions that are most susceptible to being fraud"
   ]
  },
  {
   "cell_type": "code",
   "execution_count": 36,
   "metadata": {},
   "outputs": [],
   "source": [
    "#Make predictions on testing set\n",
    "y_pred1 = logreg.predict(X_test) "
   ]
  },
  {
   "cell_type": "code",
   "execution_count": null,
   "metadata": {},
   "outputs": [],
   "source": []
  },
  {
   "cell_type": "code",
   "execution_count": 37,
   "metadata": {},
   "outputs": [],
   "source": [
    "# Define a function to draw ROC curve\n",
    "def get_ROC_curve(y_pred):\n",
    "    # find the area under the curve.\n",
    "    fpr, tpr, _ = roc_curve(y_test, y_pred)\n",
    "    roc_auc = auc(fpr, tpr)\n",
    "    \n",
    "    # Plot of a ROC curve.\n",
    "    plt.figure(figsize=[4,4])\n",
    "    plt.plot(fpr, tpr, label='ROC curve (area = %0.2f)' % roc_auc, linewidth=4)\n",
    "    plt.plot([0, 1], [0, 1], 'k--', linewidth=4)\n",
    "    plt.xlim([-0.05, 1.0])\n",
    "    plt.ylim([-0.05, 1.05])\n",
    "    plt.xlabel('False Positive Rate', fontsize=18)\n",
    "    plt.ylabel('True Positive Rate', fontsize=18)\n",
    "    plt.title('Receiver operating characteristic for Model', fontsize=18)\n",
    "    plt.legend(loc=\"lower right\")\n",
    "    plt.show()\n",
    "    print ('Auc:',roc_auc)"
   ]
  },
  {
   "cell_type": "code",
   "execution_count": 38,
   "metadata": {},
   "outputs": [
    {
     "name": "stdout",
     "output_type": "stream",
     "text": [
      " Accuracy Score: 0.9140722041912088 \n",
      "\n",
      "--------------------Confusion Matrix-------------------- \n",
      "\n",
      "[[47252  2678]\n",
      " [ 5900 43998]] \n",
      "\n",
      "--------------------Classification Report-------------------- \n",
      "\n",
      "Classification report: \n",
      "              precision    recall  f1-score   support\n",
      "\n",
      "          0       0.89      0.95      0.92     49930\n",
      "          1       0.94      0.88      0.91     49898\n",
      "\n",
      "avg / total       0.92      0.91      0.91     99828\n",
      " \n",
      "\n",
      "--------------------ROC Curve-------------------- \n",
      "\n",
      " ROC Score: 0.9140618494012986 \n",
      "\n"
     ]
    },
    {
     "data": {
      "image/png": "[encoded data removed]",
      "text/plain": [
       "<Figure size 288x288 with 1 Axes>"
      ]
     },
     "metadata": {},
     "output_type": "display_data"
    },
    {
     "name": "stdout",
     "output_type": "stream",
     "text": [
      "Auc: 0.9140618494012986\n",
      "--------------------Sensitivity and Specificity-------------------- \n",
      "\n",
      " Sensitivity Score: 0.8817587879273718 \n",
      "\n",
      " Specificity Score: 0.9463649108752253 \n",
      "\n"
     ]
    }
   ],
   "source": [
    "# Define a function to benchmark Model Performance\n",
    "from sklearn import metrics\n",
    "from sklearn.metrics import classification_report, confusion_matrix, roc_curve, auc\n",
    "\n",
    "def get_model_performance(y_pred):\n",
    "    print (' Accuracy Score: {}' .format(metrics.accuracy_score(y_test,y_pred)), '\\n')\n",
    "\n",
    "    print (('-'* 20 + 'Confusion Matrix' + '-'*20), '\\n')\n",
    "    confusion = metrics.confusion_matrix(y_test, y_pred)\n",
    "    print(confusion,'\\n')\n",
    "\n",
    "    print (('-'* 20 + 'Classification Report' + '-'*20), '\\n')\n",
    "    print ('Classification report: \\n', classification_report(y_test, y_pred), '\\n')\n",
    "\n",
    "    print (('-'* 20 + 'ROC Curve' + '-'*20), '\\n')\n",
    "    print (' ROC Score: {}' .format(metrics.roc_auc_score(y_test,y_pred)), '\\n')\n",
    "    get_ROC_curve(y_pred)\n",
    "\n",
    "    print (('-'* 20 + 'Sensitivity and Specificity' + '-'*20), '\\n')\n",
    "    #True positive = predicted Fraud and is Fraud\n",
    "    TP = confusion[1][1]\n",
    "    TN = confusion[0][0]\n",
    "    FP = confusion[0][1]\n",
    "    FN = confusion[1][0]\n",
    "\n",
    "    # calculate the sensitivity: aim to make sensitivity as high as possible\n",
    "    print(' Sensitivity Score: {}' .format(TP / float(TP + FN)), '\\n')\n",
    "    # calculate the specificity\n",
    "    print(' Specificity Score: {}' .format(TN / float(TN + FP)), '\\n')\n",
    "    \n",
    "get_model_performance(y_pred1)"
   ]
  },
  {
   "cell_type": "markdown",
   "metadata": {},
   "source": [
    "- We set a lower probability threshold (lower than the default 0.5), to predict more positive classes. This means we will predict more true positives, but fewer true negatives.\n",
    "- The reason for this is that we have imbalanced penality for misclassification. A false negative (real fraud but predicted as non-fraud) is much more costly than a false positive (non-fraud but predicted as fraud). In the former, the bank can risk losing millions, while in the latter, only a few customers are annoyed.\n",
    "- Increase sensitivity by lowering the threshold for predicting Fraud, from 0.5 to 0.3"
   ]
  },
  {
   "cell_type": "code",
   "execution_count": 39,
   "metadata": {},
   "outputs": [
    {
     "name": "stdout",
     "output_type": "stream",
     "text": [
      " Accuracy Score: 0.8676122931442081 \n",
      "\n",
      "--------------------Confusion Matrix-------------------- \n",
      "\n",
      "[[36963 12967]\n",
      " [  249 49649]] \n",
      "\n",
      "--------------------Classification Report-------------------- \n",
      "\n",
      "Classification report: \n",
      "              precision    recall  f1-score   support\n",
      "\n",
      "          0       0.99      0.74      0.85     49930\n",
      "          1       0.79      1.00      0.88     49898\n",
      "\n",
      "avg / total       0.89      0.87      0.87     99828\n",
      " \n",
      "\n",
      "--------------------ROC Curve-------------------- \n",
      "\n",
      " ROC Score: 0.8676531175069202 \n",
      "\n"
     ]
    },
    {
     "data": {
      "image/png": "[encoded data removed]",
      "text/plain": [
       "<Figure size 288x288 with 1 Axes>"
      ]
     },
     "metadata": {},
     "output_type": "display_data"
    },
    {
     "name": "stdout",
     "output_type": "stream",
     "text": [
      "Auc: 0.8676531175069202\n",
      "--------------------Sensitivity and Specificity-------------------- \n",
      "\n",
      " Sensitivity Score: 0.9950098200328671 \n",
      "\n",
      " Specificity Score: 0.7402964149809733 \n",
      "\n"
     ]
    }
   ],
   "source": [
    "y_pred_prob = logreg.predict_proba(X_test)[:,1] # Get probability prediction\n",
    "y_pred2=y_pred_prob > 0.3 \n",
    "get_model_performance(y_pred2)"
   ]
  },
  {
   "cell_type": "code",
   "execution_count": 40,
   "metadata": {},
   "outputs": [],
   "source": [
    "# Sensitity Score has increased from 92.8% to 99.9% after lowering threshold of prob to detect Fraud to 0.3.\n",
    "# Although the specificity score reduces, the tradeoff is justified"
   ]
  },
  {
   "cell_type": "markdown",
   "metadata": {},
   "source": [
    "> Model 2: KNN"
   ]
  },
  {
   "cell_type": "code",
   "execution_count": 41,
   "metadata": {
    "scrolled": false
   },
   "outputs": [],
   "source": [
    "from sklearn.neighbors import KNeighborsClassifier"
   ]
  },
  {
   "cell_type": "code",
   "execution_count": 42,
   "metadata": {},
   "outputs": [
    {
     "data": {
      "text/plain": [
       "KNeighborsClassifier(algorithm='auto', leaf_size=30, metric='minkowski',\n",
       "           metric_params=None, n_jobs=1, n_neighbors=2, p=2,\n",
       "           weights='uniform')"
      ]
     },
     "execution_count": 42,
     "metadata": {},
     "output_type": "execute_result"
    }
   ],
   "source": [
    "knn = KNeighborsClassifier(n_neighbors=2)\n",
    "knn.fit(X_train, y_train)"
   ]
  },
  {
   "cell_type": "code",
   "execution_count": 43,
   "metadata": {},
   "outputs": [],
   "source": [
    "y_pred3 = knn.predict(X_test)"
   ]
  },
  {
   "cell_type": "code",
   "execution_count": 44,
   "metadata": {},
   "outputs": [
    {
     "name": "stdout",
     "output_type": "stream",
     "text": [
      " Accuracy Score: 0.9965741074648395 \n",
      "\n",
      "--------------------Confusion Matrix-------------------- \n",
      "\n",
      "[[49667   263]\n",
      " [   79 49819]] \n",
      "\n",
      "--------------------Classification Report-------------------- \n",
      "\n",
      "Classification report: \n",
      "              precision    recall  f1-score   support\n",
      "\n",
      "          0       1.00      0.99      1.00     49930\n",
      "          1       0.99      1.00      1.00     49898\n",
      "\n",
      "avg / total       1.00      1.00      1.00     99828\n",
      " \n",
      "\n",
      "--------------------ROC Curve-------------------- \n",
      "\n",
      " ROC Score: 0.9965746979435887 \n",
      "\n"
     ]
    },
    {
     "data": {
      "image/png": "[encoded data removed]",
      "text/plain": [
       "<Figure size 288x288 with 1 Axes>"
      ]
     },
     "metadata": {},
     "output_type": "display_data"
    },
    {
     "name": "stdout",
     "output_type": "stream",
     "text": [
      "Auc: 0.9965746979435887\n",
      "--------------------Sensitivity and Specificity-------------------- \n",
      "\n",
      " Sensitivity Score: 0.9984167702112309 \n",
      "\n",
      " Specificity Score: 0.9947326256759463 \n",
      "\n"
     ]
    }
   ],
   "source": [
    "get_model_performance(y_pred3)"
   ]
  },
  {
   "cell_type": "code",
   "execution_count": 45,
   "metadata": {},
   "outputs": [],
   "source": [
    "# KNN performs better than Logistic regression model"
   ]
  },
  {
   "cell_type": "markdown",
   "metadata": {},
   "source": [
    "> Model 3: RandomForest Classifier Model"
   ]
  },
  {
   "cell_type": "code",
   "execution_count": 46,
   "metadata": {
    "slideshow": {
     "slide_type": "slide"
    }
   },
   "outputs": [],
   "source": [
    "from sklearn.ensemble import RandomForestClassifier"
   ]
  },
  {
   "cell_type": "code",
   "execution_count": 47,
   "metadata": {},
   "outputs": [
    {
     "data": {
      "text/plain": [
       "RandomForestClassifier(bootstrap=True, class_weight=None, criterion='gini',\n",
       "            max_depth=4, max_features='auto', max_leaf_nodes=None,\n",
       "            min_impurity_decrease=0.0, min_impurity_split=None,\n",
       "            min_samples_leaf=1, min_samples_split=2,\n",
       "            min_weight_fraction_leaf=0.0, n_estimators=10, n_jobs=1,\n",
       "            oob_score=False, random_state=42, verbose=0, warm_start=False)"
      ]
     },
     "execution_count": 47,
     "metadata": {},
     "output_type": "execute_result"
    }
   ],
   "source": [
    "rfc = RandomForestClassifier(random_state = 42, max_depth= 4)\n",
    "\n",
    "rfc.fit(X_train, y_train)"
   ]
  },
  {
   "cell_type": "code",
   "execution_count": 48,
   "metadata": {},
   "outputs": [],
   "source": [
    "y_pred4= rfc.predict(X_test)"
   ]
  },
  {
   "cell_type": "code",
   "execution_count": 49,
   "metadata": {},
   "outputs": [
    {
     "name": "stdout",
     "output_type": "stream",
     "text": [
      "amount = 0.1453183537006924\n",
      "oldbalanceOrg = 0.21546838718253825\n",
      "oldbalanceDest = 0.13469802335773173\n",
      "error_Dest = 0.0819476513082156\n",
      "type_CASH_OUT = 0.0742578101141067\n",
      "type_DEBIT = 0.0\n",
      "type_PAYMENT = 0.16531077884608397\n",
      "type_TRANSFER = 0.1829989954906314\n",
      "Feature ranking:\n",
      "1. feature 1 (0.215468)\n",
      "2. feature 7 (0.182999)\n",
      "3. feature 6 (0.165311)\n",
      "4. feature 0 (0.145318)\n",
      "5. feature 2 (0.134698)\n",
      "6. feature 3 (0.081948)\n",
      "7. feature 4 (0.074258)\n",
      "8. feature 5 (0.000000)\n"
     ]
    },
    {
     "data": {
      "image/png": "[encoded data removed]",
      "text/plain": [
       "<Figure size 432x288 with 1 Axes>"
      ]
     },
     "metadata": {},
     "output_type": "display_data"
    }
   ],
   "source": [
    "importances = rfc.feature_importances_\n",
    "for name, importance in zip(feature_cols, importances):\n",
    "    print(name, \"=\", importance)\n",
    "\n",
    "indices = np.argsort(importances)[::-1]\n",
    "print(\"Feature ranking:\")\n",
    "\n",
    "for f in range(X.shape[1]):\n",
    "    print(\"%d. feature %d (%f)\" % (f + 1, indices[f], importances[indices[f]]))\n",
    "\n",
    "# Plot the feature importances of the forest\n",
    "plt.figure()\n",
    "plt.title(\"Feature importances\")\n",
    "plt.bar(range(X.shape[1]), importances[indices],\n",
    "       color=\"r\", align=\"center\")\n",
    "plt.xticks(range(X.shape[1]), indices)\n",
    "plt.xlim([-1, X.shape[1]])\n",
    "plt.show()"
   ]
  },
  {
   "cell_type": "markdown",
   "metadata": {},
   "source": [
    "The rank of feature importance shows that `oldbalanceOrg` is the one with the strongest predictive power. `amount` (the original Fraud detector) is actually the second"
   ]
  },
  {
   "cell_type": "code",
   "execution_count": 50,
   "metadata": {},
   "outputs": [
    {
     "name": "stdout",
     "output_type": "stream",
     "text": [
      " Accuracy Score: 0.9534198821973795 \n",
      "\n",
      "--------------------Confusion Matrix-------------------- \n",
      "\n",
      "[[45820  4110]\n",
      " [  540 49358]] \n",
      "\n",
      "--------------------Classification Report-------------------- \n",
      "\n",
      "Classification report: \n",
      "              precision    recall  f1-score   support\n",
      "\n",
      "          0       0.99      0.92      0.95     49930\n",
      "          1       0.92      0.99      0.96     49898\n",
      "\n",
      "avg / total       0.96      0.95      0.95     99828\n",
      " \n",
      "\n",
      "--------------------ROC Curve-------------------- \n",
      "\n",
      " ROC Score: 0.9534313408124855 \n",
      "\n"
     ]
    },
    {
     "data": {
      "image/png": "[encoded data removed]",
      "text/plain": [
       "<Figure size 288x288 with 1 Axes>"
      ]
     },
     "metadata": {},
     "output_type": "display_data"
    },
    {
     "name": "stdout",
     "output_type": "stream",
     "text": [
      "Auc: 0.9534313408124855\n",
      "--------------------Sensitivity and Specificity-------------------- \n",
      "\n",
      " Sensitivity Score: 0.9891779229628442 \n",
      "\n",
      " Specificity Score: 0.917684758662127 \n",
      "\n"
     ]
    }
   ],
   "source": [
    "get_model_performance(y_pred4)"
   ]
  },
  {
   "cell_type": "markdown",
   "metadata": {},
   "source": [
    "**Conclusion**"
   ]
  },
  {
   "cell_type": "markdown",
   "metadata": {},
   "source": [
    "Logistic Regression, KNN and RandomForest models all give high accuracy on the testing set, with sensitivity >95%.\n",
    "However, Logistic Regression will be more useful can its coef can be interpreted.\n",
    "Sensitivy Score of 99.9% is much better than the baseline (in which only transaction >200K is flagged Fraud)\n",
    "More Features should be gather to build a stronger model, like Country of Origin and Destination, or timestamp of the transactions."
   ]
  },
  {
   "cell_type": "code",
   "execution_count": null,
   "metadata": {},
   "outputs": [],
   "source": []
  },
  {
   "cell_type": "code",
   "execution_count": null,
   "metadata": {},
   "outputs": [],
   "source": []
  },
  {
   "cell_type": "code",
   "execution_count": null,
   "metadata": {},
   "outputs": [],
   "source": []
  }
 ],
 "metadata": {
  "kernelspec": {
   "display_name": "Python 3",
   "language": "python",
   "name": "python3"
  },
  "language_info": {
   "codemirror_mode": {
    "name": "ipython",
    "version": 3
   },
   "file_extension": ".py",
   "mimetype": "text/x-python",
   "name": "python",
   "nbconvert_exporter": "python",
   "pygments_lexer": "ipython3",
   "version": "3.6.5"
  }
 },
 "nbformat": 4,
 "nbformat_minor": 2
}
